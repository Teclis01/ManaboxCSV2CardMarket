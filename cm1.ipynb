import pandas as pd
df = pd.read_csv('cm.csv')

notExportedValue = []

for index in range(0,len(df)):
    notExportedValue.append(0)

df['Exported'] = notExportedValue

df.to_csv('cmConverted.csv', index=False)
