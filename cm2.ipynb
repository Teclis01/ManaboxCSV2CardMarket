from selenium import webdriver
from selenium.webdriver.common.keys import Keys
from selenium.webdriver.common.by import By
from selenium.webdriver.support.select import Select
import pandas as pd
import time

manualLogin=False

if not manualLogin:
    login=""
    password=""

driver = webdriver.Firefox()
df = pd.read_csv('cmConverted.csv')

changesDone=False

driver.get("https://www.cardmarket.com/fr/Magic")
time.sleep(3)
if not manualLogin:
    username=driver.find_element(By.NAME,"username")
    username.send_keys(login)
    userPassword=driver.find_element(By.NAME,"userPassword")
    userPassword.send_keys(password)
    userPassword.send_keys(Keys.RETURN)
else:
    print("you have 60 seconds to login on the browser that opened")
    time.sleep(60)

time.sleep(10)
driver.get("https://www.cardmarket.com/fr/Magic/Stock/ListingMethods/ListMixedProducts")
time.sleep(3)

expansionsSelect=Select(driver.find_element(By.NAME,"idExpansion"))
expansionsKeys = expansionsSelect.options
expansionKeysValues={}
for i in range(0,len(expansionsKeys)):
    expansionKeysValues[expansionsKeys[i].get_attribute('value')]=expansionsKeys[i].get_attribute('text')
expansionsNames= expansionKeysValues.values()


languagesSelect=Select(driver.find_element(By.NAME,"idLanguage"))
languagesKeys = languagesSelect.options
languagesKeysValues={}
for i in range(0,len(languagesKeys)):
    languagesKeysValues[languagesKeys[i].get_attribute('value')]=languagesKeys[i].get_attribute('text')
languagesNames= languagesKeysValues.values()

for indexRow,row in df.iterrows():
    name = row["Name"]
    setCode = row["Set code"]
    setName = row["Set name"]
    exported = row["Exported"]
    purchasePrice = row["Purchase price"]
    if exported == 0:
        if setName in expansionsNames :
            expansionsSelect=Select(driver.find_element(By.NAME,"idExpansion"))
            expansionsSelect.select_by_visible_text(setName)
            cardName = driver.find_element(By.ID, "ProductNameInput")
            cardName.send_keys(name)
            time.sleep(3)

            productSuggestions=driver.find_element(By.ID,"ProductSuggestions")
            suggestions = productSuggestions.find_elements(By.TAG_NAME,"a")
            if len(suggestions) == 1:
                suggestions[0].click()
                time.sleep(2)
                price = driver.find_element(By.ID, "price")
                price.send_keys(purchasePrice)
                price.send_keys(Keys.RETURN)

            else:
                print("Line : "+str(indexRow+1)+" Card : "+name+" expansion : "+setName+" multiple match ")
            time.sleep(3)
            
            #df.at[indexRow,'Exported'] = 1
            #changesDone=True
            
        else :
            print("Line : "+str(indexRow+1)+" Card : "+name+" expansion : "+setName+" cannot be found")
if changesDone:
    df.to_csv('cmConverted.csv', index=False)
    print("CSV updated")
